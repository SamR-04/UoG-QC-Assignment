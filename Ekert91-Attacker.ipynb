{
 "cells": [
  {
   "cell_type": "code",
   "execution_count": null,
   "id": "77c0196e-4446-4466-951c-13e1b59f9642",
   "metadata": {},
   "outputs": [],
   "source": [
    "%pip install qiskit==1.2.4\n",
    "%pip install qiskit-aer==0.15.1\n",
    "%pip install pylatexenc==2.10"
   ]
  },
  {
   "cell_type": "code",
   "execution_count": null,
   "id": "c16cd3de-f076-496b-8661-4b1efd19a244",
   "metadata": {},
   "outputs": [],
   "source": [
    "from qiskit import QuantumCircuit\n",
    "from qiskit.converters import circuit_to_gate\n",
    "from qiskit.visualization import array_to_latex\n",
    "from qiskit.quantum_info import Operator\n",
    "from qiskit.quantum_info import Statevector\n",
    "from qiskit import transpile \n",
    "from qiskit.providers.basic_provider import BasicSimulator\n",
    "from qiskit.visualization import plot_histogram\n",
    "from qiskit.circuit import ControlledGate\n",
    "import math \n",
    "\n",
    "# The aim of the assignment is to simulate the Ekert91 key distribution protocol.\n",
    "\n",
    "# This notebook is for a simulation of the protocol with an attacker, to demonstrate that the attacker can be detected."
   from qiskit import QuantumCircuit
from qiskit.converters import circuit_to_gate
from qiskit.visualization import array_to_latex
from qiskit.quantum_info import Operator
from qiskit.quantum_info import Statevector
from qiskit import transpile 
from qiskit.providers.basic_provider import BasicSimulator
from qiskit.visualization import plot_histogram
from qiskit.circuit import ControlledGate
import math 

# The aim of the assignment is to simulate the Ekert91 key distribution protocol.

# This notebook is for a simulation of the protocol with an attacker, to demonstrate that the attacker can be detected.
root2 = math.sqrt(2)

denom1 = math.sqrt(4 + 2*root2)
denom2 = math.sqrt(4 - 2*root2) 

B1_transform_matrix = [ [  1 / denom1 , (1 + root2) / denom1 ],
                        [ -1 / denom2 , (root2 - 1) / denom2 ]]
B0_transform_matrix = [ [ -1 / denom1 , (1 + root2) / denom1 ],
                        [  1 / denom2 , (root2 - 1) / denom2 ]]
def average(c,n):
    backend = BasicSimulator()
    compiled = transpile(c, backend)
    job_sim = backend.run (compiled, shots=n)
    result_sim = job_sim.result() 
    counts = result_sim.get_counts(compiled) 
    print (counts)
    count00 = counts.get('00',0)
    count01 = counts.get('01',0)
    count10 = counts.get('10',0)
    count11 = counts.get('11',0)
    return (count00 - count01 - count10 + count11)/n

def entangledPair():
    q = QuantumCircuit(2,2)
    q.x(1)
    q.h(0)
    q.z(0)
    q.cx(0,1)
    return q

def random():
    q = QuantumCircuit(1) 
    q.h(0) 
    q.measure_all() 
    backend = BasicSimulator()
    compiled = transpile(q, backend)
    job_sim = backend.run(compiled, shots=1)
    result_sim = job_sim.result() 
    counts = result_sim.get_counts(compiled)
    return counts.get("1",0)

N = 100

# x w 
circuit_X_W = entangledPair()
circuit_X_W.h(0)
circuit_X_W.measure(0,0)

#attacker measure 
circuit_X_W.measure(1,1)
circuit_X_W.unitary(B0_transform_matrix,[1])
circuit_X_W.measure(1,1)
avg_XW = average(circuit_X_W,N)
print(avg_XW)

# x v
circuit_X_V = entangledPair() 
circuit_X_V.h(0)
circuit_X_V.measure(0,0)

circuit_X_V.measure(1,1)
circuit_X_V.unitary(B1_transform_matrix,[1])
circuit_X_V.measure(1,1)
avg_XV = average(circuit_X_V,N)
print(avg_XV)

#z w
circuit_Z_W = entangledPair() 
circuit_Z_W.z(0) 
circuit_Z_W.measure(0,0)

circuit_Z_W.measure(1,1)
circuit_Z_W.unitary(B0_transform_matrix,[1])
circuit_Z_W.measure(1,1)
avg_ZW = average(circuit_Z_W,N) 
print(avg_ZW)

#z v
circuit_Z_V = entangledPair()
circuit_Z_V.z(0) 
circuit_Z_V.measure(0,0)

circuit_Z_V.measure(1,1)
circuit_Z_V.unitary(B1_transform_matrix,[1])
circuit_Z_V.measure(1,1)
avg_ZV = average(circuit_Z_V,N)
print(avg_ZV)


# final average 
result = abs(avg_XW - avg_XV + avg_ZW + avg_ZV)
print("s = ",result)

if result < 2:
    print("only classical correlation, attacker present")
elif result < 3.6:
    # between 2 and 3.6
    print("entanglement, no attacker ")
   ]
  },
  {
   "cell_type": "code",
   "execution_count": null,
   "id": "6151e6db-216e-49df-9bea-91f77ff27267",
   "metadata": {},
   "outputs": [],
   "source": []
  },
  {
   "cell_type": "code",
   "execution_count": null,
   "id": "627886c7-3c58-475b-bc54-2c64a912b8b2",
   "metadata": {},
   "outputs": [],
   "source": []
  }
 ],
 "metadata": {
  "kernelspec": {
   "display_name": "Python 3 [qBraid]",
   "language": "python",
   "name": "python3_qbraid_sdk_9j9sjy"
  },
  "language_info": {
   "codemirror_mode": {
    "name": "ipython",
    "version": 3
   },
   "file_extension": ".py",
   "mimetype": "text/x-python",
   "name": "python",
   "nbconvert_exporter": "python",
   "pygments_lexer": "ipython3",
   "version": "3.11.9"
  }
 },
 "nbformat": 4,
 "nbformat_minor": 5
}
